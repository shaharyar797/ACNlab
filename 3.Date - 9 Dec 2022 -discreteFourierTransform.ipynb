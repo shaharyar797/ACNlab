{
  "nbformat": 4,
  "nbformat_minor": 0,
  "metadata": {
    "colab": {
      "provenance": []
    },
    "kernelspec": {
      "name": "python3",
      "display_name": "Python 3"
    },
    "language_info": {
      "name": "python"
    }
  },
  "cells": [
    {
      "cell_type": "markdown",
      "source": [
        "Generate 3 sine waves with frequencies 1 Hz, 4 Hz, and 7 Hz, amplitudes 3, 1 and 0.5, and phase all zeros. Add this 3 sine waves together with a sampling rate 100 Hz, you will see that it is the same signal we just shown at the beginning of the section."
      ],
      "metadata": {
        "id": "ggyiLwndrtHa"
      }
    },
    {
      "cell_type": "code",
      "source": [
        "import matplotlib.pyplot as plt\n",
        "import numpy as np"
      ],
      "metadata": {
        "id": "2k7IH0vmru5B"
      },
      "execution_count": 1,
      "outputs": []
    },
    {
      "cell_type": "code",
      "source": [
        "# sampling rate\n",
        "sr = 100\n",
        "# sampling interval\n",
        "ts = 1.0/sr\n",
        "t = np.arange(0,1,ts)\n",
        "\n",
        "freq = 1.\n",
        "x = 3*np.sin(2*np.pi*freq*t)\n",
        "\n",
        "freq = 4\n",
        "x += np.sin(2*np.pi*freq*t)\n",
        "\n",
        "freq = 7   \n",
        "x += 0.5* np.sin(2*np.pi*freq*t)\n",
        "\n",
        "plt.figure(figsize = (8, 6))\n",
        "plt.plot(t, x, 'r')\n",
        "plt.ylabel('Amplitude')\n",
        "\n",
        "plt.show()"
      ],
      "metadata": {
        "colab": {
          "base_uri": "https://localhost:8080/",
          "height": 374
        },
        "id": "hXR53XTzsLbZ",
        "outputId": "b97430d7-3db2-471b-feeb-ebdf23a374ce"
      },
      "execution_count": 2,
      "outputs": [
        {
          "output_type": "display_data",
          "data": {
            "text/plain": [
              "<Figure size 576x432 with 1 Axes>"
            ],
            "image/png": "[encoded data removed]"
          },
          "metadata": {
            "needs_background": "light"
          }
        }
      ]
    },
    {
      "cell_type": "markdown",
      "source": [
        "Write a function DFT(x) which takes in one argument, x - input 1 dimensional real-valued signal. The function will calculate the DFT of the signal and return the DFT values. Apply this function to the signal we generated above and plot the result."
      ],
      "metadata": {
        "id": "Uih8YA1hsUk1"
      }
    },
    {
      "cell_type": "code",
      "source": [
        "def DFT(x):\n",
        "    \"\"\"\n",
        "    Function to calculate the \n",
        "    discrete Fourier Transform \n",
        "    of a 1D real-valued signal x\n",
        "    \"\"\"\n",
        "\n",
        "    N = len(x)\n",
        "    n = np.arange(N)\n",
        "    k = n.reshape((N, 1))\n",
        "    e = np.exp(-2j * np.pi * k * n / N)\n",
        "    \n",
        "    X = np.dot(e, x)\n",
        "    \n",
        "    return X\n",
        "\n",
        "X = DFT(x)\n",
        "\n",
        "# calculate the frequency\n",
        "N = len(X)\n",
        "n = np.arange(N)\n",
        "T = N/sr\n",
        "freq = n/T \n",
        "\n",
        "plt.figure(figsize = (8, 6))\n",
        "plt.stem(freq, abs(X), 'b', \\\n",
        "         markerfmt=\" \", basefmt=\"-b\")\n",
        "plt.xlabel('Freq (Hz)')\n",
        "plt.ylabel('DFT Amplitude |X(freq)|')\n",
        "plt.show()"
      ],
      "metadata": {
        "colab": {
          "base_uri": "https://localhost:8080/",
          "height": 443
        },
        "id": "bXcGmp8ysOFn",
        "outputId": "d3acfc43-9564-4825-e7e7-c50bd1518853"
      },
      "execution_count": 3,
      "outputs": [
        {
          "output_type": "stream",
          "name": "stderr",
          "text": [
            "<ipython-input-3-98a659ad04ea>:26: UserWarning: In Matplotlib 3.3 individual lines on a stem plot will be added as a LineCollection instead of individual lines. This significantly improves the performance of a stem plot. To remove this warning and switch to the new behaviour, set the \"use_line_collection\" keyword argument to True.\n",
            "  plt.stem(freq, abs(X), 'b', \\\n"
          ]
        },
        {
          "output_type": "display_data",
          "data": {
            "text/plain": [
              "<Figure size 576x432 with 1 Axes>"
            ],
            "image/png": "[encoded data removed]"
          },
          "metadata": {
            "needs_background": "light"
          }
        }
      ]
    },
    {
      "cell_type": "markdown",
      "source": [
        "Plotting Nyquist Frequncies"
      ],
      "metadata": {
        "id": "mDh0MU-r8Bms"
      }
    },
    {
      "cell_type": "code",
      "source": [
        "n_oneside = N//2\n",
        "# get the one side frequency\n",
        "\n",
        "f_oneside = freq[:n_oneside]\n",
        "\n",
        "\n",
        "# normalize the amplitude\n",
        "X_oneside =X[:n_oneside]/n_oneside\n",
        "\n",
        "plt.figure(figsize = (12, 6))\n",
        "plt.subplot(121)\n",
        "plt.stem(f_oneside, abs(X_oneside), 'b', \\\n",
        "         markerfmt=\" \", basefmt=\"-b\")\n",
        "plt.xlabel('Freq (Hz)')\n",
        "plt.ylabel('DFT Amplitude |X(freq)|')\n",
        "\n",
        "plt.subplot(122)\n",
        "plt.stem(f_oneside, abs(X_oneside), 'b', \\\n",
        "         markerfmt=\" \", basefmt=\"-b\")\n",
        "plt.xlabel('Freq (Hz)')\n",
        "plt.xlim(0, 10)\n",
        "plt.tight_layout()\n",
        "plt.show()"
      ],
      "metadata": {
        "colab": {
          "base_uri": "https://localhost:8080/",
          "height": 530
        },
        "id": "EzJujrFCsXfn",
        "outputId": "43ebd554-67fe-4791-e8bf-cc559a841479"
      },
      "execution_count": 4,
      "outputs": [
        {
          "output_type": "stream",
          "name": "stderr",
          "text": [
            "<ipython-input-4-7d07e9712042>:12: UserWarning: In Matplotlib 3.3 individual lines on a stem plot will be added as a LineCollection instead of individual lines. This significantly improves the performance of a stem plot. To remove this warning and switch to the new behaviour, set the \"use_line_collection\" keyword argument to True.\n",
            "  plt.stem(f_oneside, abs(X_oneside), 'b', \\\n",
            "<ipython-input-4-7d07e9712042>:18: UserWarning: In Matplotlib 3.3 individual lines on a stem plot will be added as a LineCollection instead of individual lines. This significantly improves the performance of a stem plot. To remove this warning and switch to the new behaviour, set the \"use_line_collection\" keyword argument to True.\n",
            "  plt.stem(f_oneside, abs(X_oneside), 'b', \\\n"
          ]
        },
        {
          "output_type": "display_data",
          "data": {
            "text/plain": [
              "<Figure size 864x432 with 2 Axes>"
            ],
            "image/png": "[encoded data removed]"
          },
          "metadata": {
            "needs_background": "light"
          }
        }
      ]
    },
    {
      "cell_type": "markdown",
      "source": [
        "Write a function to generate a simple signal with different sampling rate, and see the difference of computing time by varying the sampling rate."
      ],
      "metadata": {
        "id": "t7Ts9ygx8To8"
      }
    },
    {
      "cell_type": "code",
      "source": [
        "def gen_sig(sr):\n",
        "    '''\n",
        "    function to generate\n",
        "    a simple 1D signal with\n",
        "    different sampling rate\n",
        "    '''\n",
        "    ts = 1.0/sr\n",
        "    t = np.arange(0,1,ts)\n",
        "\n",
        "    freq = 1.\n",
        "    x = 3*np.sin(2*np.pi*freq*t)\n",
        "    return x"
      ],
      "metadata": {
        "id": "-waVPwPW8KLC"
      },
      "execution_count": 5,
      "outputs": []
    },
    {
      "cell_type": "code",
      "source": [
        "# sampling rate =2000\n",
        "sr = 2000\n",
        "%timeit DFT(gen_sig(sr))"
      ],
      "metadata": {
        "colab": {
          "base_uri": "https://localhost:8080/"
        },
        "id": "QPyOsDF_9S1Q",
        "outputId": "ee734ca9-9e13-4490-94f6-46b664c22969"
      },
      "execution_count": 6,
      "outputs": [
        {
          "output_type": "stream",
          "name": "stdout",
          "text": [
            "438 ms ± 45.7 ms per loop (mean ± std. dev. of 7 runs, 1 loop each)\n"
          ]
        }
      ]
    },
    {
      "cell_type": "code",
      "source": [
        "# sampling rate 3000\n",
        "sr = 3000\n",
        "%timeit DFT(gen_sig(sr))"
      ],
      "metadata": {
        "colab": {
          "base_uri": "https://localhost:8080/"
        },
        "id": "bxyxT70B9W6L",
        "outputId": "73e3af77-f801-46c9-a13a-9cdf80ae2f52"
      },
      "execution_count": 7,
      "outputs": [
        {
          "output_type": "stream",
          "name": "stdout",
          "text": [
            "560 ms ± 20.4 ms per loop (mean ± std. dev. of 7 runs, 1 loop each)\n"
          ]
        }
      ]
    }
  ]
}