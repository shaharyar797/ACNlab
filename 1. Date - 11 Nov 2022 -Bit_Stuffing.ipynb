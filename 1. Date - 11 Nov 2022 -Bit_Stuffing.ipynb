{
  "nbformat": 4,
  "nbformat_minor": 0,
  "metadata": {
    "colab": {
      "provenance": []
    },
    "kernelspec": {
      "name": "python3",
      "display_name": "Python 3"
    },
    "language_info": {
      "name": "python"
    }
  },
  "cells": [
    {
      "cell_type": "code",
      "execution_count": null,
      "metadata": {
        "id": "Zf0w_IfvmqKN"
      },
      "outputs": [],
      "source": [
        "def bit_stream(msg):\n",
        "  decimal_list = []\n",
        "  binary_list = []\n",
        "\n",
        "  for i in range(0,len(msg)):\n",
        "    decimal_list.append(ord(msg[i]))\n",
        "    binary_list.append(bin(decimal_list[i]))\n",
        "    binary_list[i] = str(int(binary_list[i][2::]))\n",
        "    l_b = len(binary_list[i])\n",
        "    if(l_b!=8):\n",
        "      d=8-l_b\n",
        "      binary_list[i]=d*\"0\"+str(binary_list[i])\n",
        "    else:\n",
        "      binary_list[i]=+str(binary_list[i])\n",
        "  binary = \"\"\n",
        "  for i in binary_list:\n",
        "    binary = binary + i\n",
        "  \n",
        "  return binary"
      ]
    },
    {
      "cell_type": "code",
      "source": [
        "def bit_stuffing(msg):\n",
        "  flag = \"01111110\"\n",
        "  l=len(msg)\n",
        "  count_one = 0\n",
        "  i=0\n",
        "  while(i<l):\n",
        "    if(msg[i]=='1'):\n",
        "      count_one+=1      \n",
        "      if(count_one == 5):\n",
        "        msg = msg[:i+1]+'0'+msg[i+1::]\n",
        "        l+=1\n",
        "        i+=1\n",
        "        count_one = 0\n",
        "    else:\n",
        "      count_one = 0\n",
        "    i+=1\n",
        "  return flag+msg+flag"
      ],
      "metadata": {
        "id": "qaWkjerQm3km"
      },
      "execution_count": null,
      "outputs": []
    },
    {
      "cell_type": "code",
      "source": [
        "def decode(bitStream):\n",
        "  data = bitStream[8:-8]\n",
        "  l=len(data)\n",
        "  count_one = 0\n",
        "  i=0\n",
        "  while(i<l):\n",
        "    if(data[i]=='1'):\n",
        "      count_one+=1      \n",
        "      if(count_one == 5):\n",
        "        data = data[:i+1]+data[i+2::]\n",
        "        l-=1\n",
        "        i-=1\n",
        "        count_one = 0\n",
        "    else:\n",
        "      count_one = 0\n",
        "    i+=1\n",
        "  return data"
      ],
      "metadata": {
        "id": "vYLMF0mWm-0X"
      },
      "execution_count": null,
      "outputs": []
    },
    {
      "cell_type": "code",
      "source": [
        "def gettingMsg(data):\n",
        "  temp = \"0b\"\n",
        "  char = []\n",
        "  msg = \"\"\n",
        "  \n",
        "  for i in range(0,len(data)):\n",
        "    temp += data[i]\n",
        "    index = i+1\n",
        "    if index%8==0:\n",
        "      char.append(temp)\n",
        "      temp = \"0b\"\n",
        "  for i in range(0,len(char)):\n",
        "    msg += chr(int(char[i],2))\n",
        "  return msg"
      ],
      "metadata": {
        "id": "mAOfhT_ynDHu"
      },
      "execution_count": null,
      "outputs": []
    },
    {
      "cell_type": "code",
      "source": [
        "sender_message = \"A>B?C}D\"\n",
        "print(f\"Sender_message : {sender_message}\")\n",
        "bitStreamOfSenderMessage = bit_stream(sender_message)\n",
        "print(f\"Bit Stream Of Sender Message : {bitStreamOfSenderMessage}\")\n",
        "encrypted_data = bit_stuffing(bitStreamOfSenderMessage)\n",
        "print(f\"Encrypted Data : {encrypted_data}\")\n",
        "decrypted_data = decode(encrypted_data)\n",
        "print(f\"Decrypted Data : {decrypted_data}\")\n",
        "recieved_message = gettingMsg(decrypted_data)\n",
        "print(f\"Recieved Message : {recieved_message}\")"
      ],
      "metadata": {
        "colab": {
          "base_uri": "https://localhost:8080/"
        },
        "id": "rzsiUOUDnMcm",
        "outputId": "d8c0b6fc-f25a-4a32-ddc8-35e0b331b629"
      },
      "execution_count": null,
      "outputs": [
        {
          "output_type": "stream",
          "name": "stdout",
          "text": [
            "Sender_message : A>B?C}D\n",
            "Bit Stream Of Sender Message : 01000001001111100100001000111111010000110111110101000100\n",
            "Encrypted Data : 011111100100000100111110001000010001111101010000110111110010100010001111110\n",
            "Decrypted Data : 01000001001111100100001000111111010000110111110101000100\n",
            "Recieved Message : A>B?C}D\n"
          ]
        }
      ]
    },
    {
      "cell_type": "code",
      "source": [],
      "metadata": {
        "id": "m1d0IFVbrEUo"
      },
      "execution_count": null,
      "outputs": []
    }
  ]
}